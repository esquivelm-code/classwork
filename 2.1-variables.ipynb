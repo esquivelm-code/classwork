{
 "cells": [
  {
   "cell_type": "code",
   "execution_count": null,
   "id": "232dda88",
   "metadata": {},
   "outputs": [],
   "source": [
    "# Commments are not read by the Python interpreter."
   ]
  },
  {
   "cell_type": "markdown",
   "id": "d1ef04d1",
   "metadata": {},
   "source": [
    "## Variables"
   ]
  },
  {
   "cell_type": "code",
   "execution_count": 2,
   "id": "31c67abe",
   "metadata": {},
   "outputs": [],
   "source": [
    "var = \"My Variables\""
   ]
  },
  {
   "cell_type": "code",
   "execution_count": 3,
   "id": "efc88fb4",
   "metadata": {},
   "outputs": [
    {
     "name": "stdout",
     "output_type": "stream",
     "text": [
      "My Variables\n"
     ]
    }
   ],
   "source": [
    "print(var)"
   ]
  },
  {
   "cell_type": "markdown",
   "id": "226c59c5",
   "metadata": {},
   "source": [
    "## Naming Conventions\n",
    "\n",
    "snake_case\n",
    "\n",
    "camelCase\n",
    "\n",
    "PascalCase"
   ]
  },
  {
   "cell_type": "code",
   "execution_count": 10,
   "id": "9eaa1085",
   "metadata": {},
   "outputs": [],
   "source": [
    "my_variable = \"A new variable\""
   ]
  },
  {
   "cell_type": "markdown",
   "id": "6aa5fbaa",
   "metadata": {},
   "source": [
    "Basic Data Types"
   ]
  },
  {
   "cell_type": "code",
   "execution_count": 14,
   "id": "8d29f406",
   "metadata": {},
   "outputs": [
    {
     "name": "stdout",
     "output_type": "stream",
     "text": [
      "12,345a;sdjkfla;😎\n"
     ]
    },
    {
     "data": {
      "text/plain": [
       "'what our string is'"
      ]
     },
     "execution_count": 14,
     "metadata": {},
     "output_type": "execute_result"
    }
   ],
   "source": [
    "# Strings, ints, floats, boolean\n",
    "\n",
    "my_str = \"12,345a;sdjkfla;😎\"\n",
    "str2 = str(\"what our string is\")\n",
    "print(my_str)\n",
    "str2"
   ]
  },
  {
   "cell_type": "code",
   "execution_count": 15,
   "id": "c2b7d7e1",
   "metadata": {},
   "outputs": [
    {
     "name": "stdout",
     "output_type": "stream",
     "text": [
      "12 21 21\n"
     ]
    }
   ],
   "source": [
    "my_int = 12\n",
    "int2 = int(21)\n",
    "int3 = int(21.223)\n",
    "\n",
    "print(my_int,int2,int3)"
   ]
  },
  {
   "cell_type": "code",
   "execution_count": 16,
   "id": "8d580ff0",
   "metadata": {},
   "outputs": [
    {
     "name": "stdout",
     "output_type": "stream",
     "text": [
      "1.111 1.0\n"
     ]
    }
   ],
   "source": [
    "my_float = 1.111\n",
    "float2 = float(1)\n",
    "print(my_float,float2)"
   ]
  },
  {
   "cell_type": "code",
   "execution_count": 23,
   "id": "4f3b5aaf",
   "metadata": {},
   "outputs": [
    {
     "data": {
      "text/plain": [
       "'1.111'"
      ]
     },
     "execution_count": 23,
     "metadata": {},
     "output_type": "execute_result"
    }
   ],
   "source": [
    "str(my_float)"
   ]
  },
  {
   "cell_type": "code",
   "execution_count": 19,
   "id": "f67c30cf",
   "metadata": {},
   "outputs": [
    {
     "ename": "ValueError",
     "evalue": "could not convert string to float: '12,345a;sdjkfla;😎'",
     "output_type": "error",
     "traceback": [
      "\u001b[31m---------------------------------------------------------------------------\u001b[39m",
      "\u001b[31mValueError\u001b[39m                                Traceback (most recent call last)",
      "\u001b[36mCell\u001b[39m\u001b[36m \u001b[39m\u001b[32mIn[19]\u001b[39m\u001b[32m, line 1\u001b[39m\n\u001b[32m----> \u001b[39m\u001b[32m1\u001b[39m \u001b[38;5;28mfloat\u001b[39m(my_str)\n",
      "\u001b[31mValueError\u001b[39m: could not convert string to float: '12,345a;sdjkfla;😎'"
     ]
    }
   ],
   "source": [
    "float(my_str)"
   ]
  },
  {
   "cell_type": "code",
   "execution_count": 20,
   "id": "3c2b3c95",
   "metadata": {},
   "outputs": [
    {
     "data": {
      "text/plain": [
       "(True, True)"
      ]
     },
     "execution_count": 20,
     "metadata": {},
     "output_type": "execute_result"
    }
   ],
   "source": [
    "# booleans\n",
    "boolean = True\n",
    "my_bool = bool(my_str)\n",
    "boolean, my_bool"
   ]
  },
  {
   "cell_type": "code",
   "execution_count": 21,
   "id": "7493705a",
   "metadata": {},
   "outputs": [
    {
     "data": {
      "text/plain": [
       "bool"
      ]
     },
     "execution_count": 21,
     "metadata": {},
     "output_type": "execute_result"
    }
   ],
   "source": [
    "type(boolean)"
   ]
  },
  {
   "cell_type": "code",
   "execution_count": 22,
   "id": "61bb832c",
   "metadata": {},
   "outputs": [
    {
     "data": {
      "text/plain": [
       "str"
      ]
     },
     "execution_count": 22,
     "metadata": {},
     "output_type": "execute_result"
    }
   ],
   "source": [
    "type(my_str)"
   ]
  },
  {
   "cell_type": "code",
   "execution_count": 26,
   "id": "3923d672",
   "metadata": {},
   "outputs": [
    {
     "data": {
      "text/plain": [
       "False"
      ]
     },
     "execution_count": 26,
     "metadata": {},
     "output_type": "execute_result"
    }
   ],
   "source": [
    "is_greater_than_twelve = my_int > 12 \n",
    "is_greater_than_twelve"
   ]
  },
  {
   "cell_type": "code",
   "execution_count": 30,
   "id": "95b649ec",
   "metadata": {},
   "outputs": [
    {
     "name": "stdout",
     "output_type": "stream",
     "text": [
      "12,345A;SDJKFLA;😎 What our string is What Our String Is 1\n"
     ]
    }
   ],
   "source": [
    "a = my_str.upper()\n",
    "b = str2.capitalize()\n",
    "c = str2.title()\n",
    "d = str2.count(\"a\")\n",
    "\n",
    "print(a,b,c,d)"
   ]
  },
  {
   "cell_type": "code",
   "execution_count": 31,
   "id": "2db400e8",
   "metadata": {},
   "outputs": [
    {
     "data": {
      "text/plain": [
       "18"
      ]
     },
     "execution_count": 31,
     "metadata": {},
     "output_type": "execute_result"
    }
   ],
   "source": [
    "len(str2)"
   ]
  },
  {
   "cell_type": "code",
   "execution_count": 32,
   "id": "ef866931",
   "metadata": {},
   "outputs": [
    {
     "data": {
      "text/plain": [
       "13.111"
      ]
     },
     "execution_count": 32,
     "metadata": {},
     "output_type": "execute_result"
    }
   ],
   "source": [
    "my_float + my_int"
   ]
  },
  {
   "cell_type": "code",
   "execution_count": 33,
   "id": "9cf8dcbd",
   "metadata": {},
   "outputs": [
    {
     "data": {
      "text/plain": [
       "16"
      ]
     },
     "execution_count": 33,
     "metadata": {},
     "output_type": "execute_result"
    }
   ],
   "source": [
    "4**2"
   ]
  },
  {
   "cell_type": "code",
   "execution_count": 34,
   "id": "8080ae31",
   "metadata": {},
   "outputs": [
    {
     "data": {
      "text/plain": [
       "-124"
      ]
     },
     "execution_count": 34,
     "metadata": {},
     "output_type": "execute_result"
    }
   ],
   "source": [
    "import math\n",
    "neg = -123.22\n",
    "abs(neg)\n",
    "math.floor(neg)"
   ]
  },
  {
   "cell_type": "code",
   "execution_count": 1,
   "id": "0454d32e",
   "metadata": {},
   "outputs": [
    {
     "data": {
      "text/plain": [
       "1"
      ]
     },
     "execution_count": 1,
     "metadata": {},
     "output_type": "execute_result"
    }
   ],
   "source": [
    "7 % 3"
   ]
  },
  {
   "cell_type": "code",
   "execution_count": 2,
   "id": "e612b23f",
   "metadata": {},
   "outputs": [
    {
     "data": {
      "text/plain": [
       "0"
      ]
     },
     "execution_count": 2,
     "metadata": {},
     "output_type": "execute_result"
    }
   ],
   "source": [
    "6 % 2"
   ]
  },
  {
   "cell_type": "code",
   "execution_count": null,
   "id": "764c7f7d",
   "metadata": {},
   "outputs": [],
   "source": []
  }
 ],
 "metadata": {
  "kernelspec": {
   "display_name": "MasonsPy-class",
   "language": "python",
   "name": "python3"
  },
  "language_info": {
   "codemirror_mode": {
    "name": "ipython",
    "version": 3
   },
   "file_extension": ".py",
   "mimetype": "text/x-python",
   "name": "python",
   "nbconvert_exporter": "python",
   "pygments_lexer": "ipython3",
   "version": "3.13.5"
  }
 },
 "nbformat": 4,
 "nbformat_minor": 5
}
