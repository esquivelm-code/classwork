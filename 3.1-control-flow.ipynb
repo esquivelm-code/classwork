{
 "cells": [
  {
   "cell_type": "code",
   "execution_count": 6,
   "id": "48edd28d",
   "metadata": {},
   "outputs": [
    {
     "name": "stdout",
     "output_type": "stream",
     "text": [
      "20\n"
     ]
    },
    {
     "data": {
      "text/plain": [
       "str"
      ]
     },
     "execution_count": 6,
     "metadata": {},
     "output_type": "execute_result"
    }
   ],
   "source": [
    "# simple type hinting (str, float, int, bool)\n",
    "import typing\n",
    "age:typing.Union[str,int] = int(input (\"what is your age?\"))\n",
    "print(int(age))\n",
    "string:str = \"it's in quotes\"\n",
    "integer:int = 9\n",
    "fl: float = 9.0\n",
    "is_true: bool = True \n",
    "type(string)"
   ]
  },
  {
   "cell_type": "code",
   "execution_count": 14,
   "id": "54455070",
   "metadata": {},
   "outputs": [
    {
     "name": "stdout",
     "output_type": "stream",
     "text": [
      "something\n"
     ]
    }
   ],
   "source": [
    "# complex types must be imported\n",
    "from typing import List, Tuple, Set, Dict, TypedDict\n",
    "list1: List[int] = [1,2,34]\n",
    "set1:Set[str] = {1,23,23,23,4}\n",
    "tupl:Tuple[int] = (1,2,3,4)\n",
    "d1:Dict[str,str] = {\"key\": 'Value'}\n",
    "\n",
    "class userTypes(TypedDict):\n",
    "    name: str\n",
    "    age: int\n",
    "    address: str\n",
    "    \n",
    "user: userTypes = {\n",
    "\"name\": \"Mason\",\n",
    "\"age\": \"20\",\n",
    "\"address\": \"something\"\n",
    "\n",
    "}\n",
    "print (user['address'])"
   ]
  },
  {
   "cell_type": "code",
   "execution_count": 16,
   "id": "dc79cc03",
   "metadata": {},
   "outputs": [
    {
     "data": {
      "text/plain": [
       "True"
      ]
     },
     "execution_count": 16,
     "metadata": {},
     "output_type": "execute_result"
    }
   ],
   "source": [
    "# comparisons ==, >, <, >=, <=, !=\n",
    "x = 10\n",
    "y = 11\n",
    "b = x != y \n",
    "b"
   ]
  },
  {
   "cell_type": "code",
   "execution_count": 21,
   "id": "d2dfaf11",
   "metadata": {},
   "outputs": [
    {
     "name": "stdout",
     "output_type": "stream",
     "text": [
      "Mason\n",
      "Mason is the name\n"
     ]
    }
   ],
   "source": [
    "# Truthy / Falsy \n",
    "# everything in python has a boolean representation.\n",
    "# falsy = 0, 0.0, [], {}, (), None, \"\"\n",
    "# if statement \n",
    "name:str = \"Mason\"\n",
    "something=False\n",
    "somethingelse=False\n",
    "if name:\n",
    "    print(name)\n",
    "    if name == \"Mason\":\n",
    "        print(\"Mason is the name\")\n",
    "elif not name: \n",
    "    name = input(\"what is your name?\")\n",
    "else: \n",
    "    print(\"neither are True\")"
   ]
  },
  {
   "cell_type": "code",
   "execution_count": 19,
   "id": "c5826e43",
   "metadata": {},
   "outputs": [
    {
     "data": {
      "text/plain": [
       "'Mason'"
      ]
     },
     "execution_count": 19,
     "metadata": {},
     "output_type": "execute_result"
    }
   ],
   "source": [
    "name"
   ]
  },
  {
   "cell_type": "code",
   "execution_count": 22,
   "id": "a4e07e41",
   "metadata": {},
   "outputs": [
    {
     "name": "stdout",
     "output_type": "stream",
     "text": [
      "neither work\n"
     ]
    }
   ],
   "source": [
    "# in, or, not, and\n",
    "\n",
    "x = 10\n",
    "y = 11\n",
    "\n",
    "if x > y or x + y == 11:\n",
    "    print(\"something\")\n",
    "else:\n",
    "    print(\"neither work\")"
   ]
  },
  {
   "cell_type": "code",
   "execution_count": 24,
   "id": "f5f8f16e",
   "metadata": {},
   "outputs": [
    {
     "name": "stdout",
     "output_type": "stream",
     "text": [
      "We are happy\n"
     ]
    }
   ],
   "source": [
    "if x < y and x+y==21:\n",
    "    print(\"We are happy\")\n",
    "else: \n",
    "    print(\"both are not true\")"
   ]
  },
  {
   "cell_type": "code",
   "execution_count": 25,
   "id": "ccaf36a4",
   "metadata": {},
   "outputs": [
    {
     "name": "stdout",
     "output_type": "stream",
     "text": [
      "both truish\n"
     ]
    }
   ],
   "source": [
    "if x == 10 and (y==12 or y>x):\n",
    "    print(\"both truish\")"
   ]
  },
  {
   "cell_type": "code",
   "execution_count": 27,
   "id": "3f2b26f8",
   "metadata": {},
   "outputs": [
    {
     "name": "stdout",
     "output_type": "stream",
     "text": [
      "42 exists\n",
      "1 also exists\n"
     ]
    }
   ],
   "source": [
    "l1:List [int] = [1,2,34,42]\n",
    "\n",
    "if 42 in l1:\n",
    "    print(\"42 exists\")\n",
    "    if 1 in l1:\n",
    "        print(\"1 also exists\")\n",
    "elif 1 in l1: \n",
    "    print (\"only 1 exists\")\n",
    "else: \n",
    "    print(\"none exists\")"
   ]
  },
  {
   "cell_type": "code",
   "execution_count": null,
   "id": "9bfeba85",
   "metadata": {},
   "outputs": [],
   "source": []
  }
 ],
 "metadata": {
  "kernelspec": {
   "display_name": "MasonsPy-class",
   "language": "python",
   "name": "python3"
  },
  "language_info": {
   "codemirror_mode": {
    "name": "ipython",
    "version": 3
   },
   "file_extension": ".py",
   "mimetype": "text/x-python",
   "name": "python",
   "nbconvert_exporter": "python",
   "pygments_lexer": "ipython3",
   "version": "3.13.5"
  }
 },
 "nbformat": 4,
 "nbformat_minor": 5
}
