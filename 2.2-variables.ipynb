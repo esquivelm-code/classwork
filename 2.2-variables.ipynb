{
 "cells": [
  {
   "cell_type": "code",
   "execution_count": 4,
   "id": "ed67b6fb",
   "metadata": {},
   "outputs": [],
   "source": [
    "# str, int, float, booleans✅\n",
    "# Complex/collection data types\n",
    "## list, dict, tuple, set, \n",
    "# methods \n",
    "# coercing \n",
    "# f-strings.\n",
    "# type hinting\n"
   ]
  },
  {
   "cell_type": "code",
   "execution_count": 7,
   "id": "fc5674eb",
   "metadata": {},
   "outputs": [
    {
     "data": {
      "text/plain": [
       "(4, 0)"
      ]
     },
     "execution_count": 7,
     "metadata": {},
     "output_type": "execute_result"
    }
   ],
   "source": [
    "# list \n",
    "## changeable,duplicates,ordered,\n",
    "## index is base 0\n",
    "## length starts @ 1\n",
    "ex_list = [1, 1.0, \"1.0\", True]\n",
    "ex_list1 = list()\n",
    "len(ex_list), len(ex_list1)"
   ]
  },
  {
   "cell_type": "code",
   "execution_count": 19,
   "id": "66eb144d",
   "metadata": {},
   "outputs": [
    {
     "data": {
      "text/plain": [
       "['1.0', True]"
      ]
     },
     "execution_count": 19,
     "metadata": {},
     "output_type": "execute_result"
    }
   ],
   "source": [
    "# access list items\n",
    "ex_list[3]\n",
    "# getting last item\n",
    "ex_list[-2] + ex_list[-2]\n",
    "# get series of items\n",
    "ex_list[1:3]\n",
    "#all up to the 3rd index\n",
    "ex_list[:3]\n",
    "# all after a specific index\n",
    "ex_list[2:]"
   ]
  },
  {
   "cell_type": "code",
   "execution_count": 20,
   "id": "612d0565",
   "metadata": {},
   "outputs": [
    {
     "data": {
      "text/plain": [
       "4"
      ]
     },
     "execution_count": 20,
     "metadata": {},
     "output_type": "execute_result"
    }
   ],
   "source": [
    "# list methods\n",
    "# pop, append, extend,remove\n",
    "\n",
    "my_list = [1,2,3,4]\n",
    "my_list.pop()"
   ]
  },
  {
   "cell_type": "code",
   "execution_count": 23,
   "id": "91146da0",
   "metadata": {},
   "outputs": [
    {
     "data": {
      "text/plain": [
       "2"
      ]
     },
     "execution_count": 23,
     "metadata": {},
     "output_type": "execute_result"
    }
   ],
   "source": [
    "new_list = my_list.pop()\n",
    "new_list"
   ]
  },
  {
   "cell_type": "code",
   "execution_count": 29,
   "id": "71569a47",
   "metadata": {},
   "outputs": [
    {
     "data": {
      "text/plain": [
       "[1, 1.0, '1.0']"
      ]
     },
     "execution_count": 29,
     "metadata": {},
     "output_type": "execute_result"
    }
   ],
   "source": [
    "ex_list = ex_list[:-1]\n",
    "ex_list"
   ]
  },
  {
   "cell_type": "code",
   "execution_count": 31,
   "id": "549f2c50",
   "metadata": {},
   "outputs": [
    {
     "data": {
      "text/plain": [
       "[1, 1.0, '1.0', 'true', 'true']"
      ]
     },
     "execution_count": 31,
     "metadata": {},
     "output_type": "execute_result"
    }
   ],
   "source": [
    "# apend\n",
    "ex_list.append(\"true\")\n",
    "ex_list"
   ]
  },
  {
   "cell_type": "code",
   "execution_count": 51,
   "id": "90befe32",
   "metadata": {},
   "outputs": [
    {
     "data": {
      "text/plain": [
       "[1, 1.0, '1.0', [1], [1], 2, 'true', [1], 1]"
      ]
     },
     "execution_count": 51,
     "metadata": {},
     "output_type": "execute_result"
    }
   ],
   "source": [
    "ex_list.insert(3,my_list)\n",
    "ex_list"
   ]
  },
  {
   "cell_type": "code",
   "execution_count": 42,
   "id": "fe80bb45",
   "metadata": {},
   "outputs": [
    {
     "data": {
      "text/plain": [
       "[['R', 'H', 'B', 'Q', 'K', 'B', 'H', 'R'],\n",
       " ['P', 'P', 'P', 'P', 'P', 'P', 'P', 'P'],\n",
       " ['', '', '', '', '', '', '', ''],\n",
       " ['', '', '', '', '', '', '', ''],\n",
       " ['', '', '', '', '', '', '', ''],\n",
       " ['', '', '', '', '', '', '', ''],\n",
       " ['P', 'P', 'P', 'P', 'P', 'P', 'P', 'P'],\n",
       " ['R', 'H', 'B', 'Q', 'K', 'B', 'H', 'R']]"
      ]
     },
     "execution_count": 42,
     "metadata": {},
     "output_type": "execute_result"
    }
   ],
   "source": [
    "good_pieces = [\"R\",\"H\",\"B\",\"Q\",\"K\",\"B\",\"H\",\"R\"]\n",
    "pawns = [\"P\"] * 8\n",
    "empties = [\"\"] * 8\n",
    "chess = [\n",
    "    good_pieces.copy(), \n",
    "    pawns.copy(),\n",
    "    empties.copy(),\n",
    "    empties.copy(),\n",
    "    empties.copy(),\n",
    "    empties.copy(),\n",
    "    pawns.copy(),\n",
    "    good_pieces.copy()\n",
    "]\n",
    "chess"
   ]
  },
  {
   "cell_type": "code",
   "execution_count": 43,
   "id": "97427ffd",
   "metadata": {},
   "outputs": [
    {
     "data": {
      "text/plain": [
       "[['R', '', 'B', 'Q', 'K', 'B', 'H', 'R'],\n",
       " ['P', 'P', 'P', 'P', 'P', 'P', 'P', 'P'],\n",
       " ['H', '', '', '', '', '', '', ''],\n",
       " ['', '', '', '', '', '', '', ''],\n",
       " ['', '', '', '', '', '', '', ''],\n",
       " ['', '', '', '', '', '', '', ''],\n",
       " ['P', 'P', 'P', 'P', 'P', 'P', 'P', 'P'],\n",
       " ['R', 'H', 'B', 'Q', 'K', 'B', 'H', 'R']]"
      ]
     },
     "execution_count": 43,
     "metadata": {},
     "output_type": "execute_result"
    }
   ],
   "source": [
    "# first move\n",
    "# chess[0][chess[0].index(\"H\")]\n",
    "chess[2][0] = chess[0][1]\n",
    "chess [0][1] = \"\"\n",
    "chess"
   ]
  },
  {
   "cell_type": "code",
   "execution_count": 44,
   "id": "b664b966",
   "metadata": {},
   "outputs": [],
   "source": [
    "ex_list.append(my_list)"
   ]
  },
  {
   "cell_type": "code",
   "execution_count": 45,
   "id": "c622c89d",
   "metadata": {},
   "outputs": [
    {
     "data": {
      "text/plain": [
       "[1, 1.0, '1.0', [1], 2, 'true', 'true', [1]]"
      ]
     },
     "execution_count": 45,
     "metadata": {},
     "output_type": "execute_result"
    }
   ],
   "source": [
    "ex_list"
   ]
  },
  {
   "cell_type": "code",
   "execution_count": 58,
   "id": "3d92bf14",
   "metadata": {},
   "outputs": [
    {
     "data": {
      "text/plain": [
       "[1, 1.0, '1.0', 'true', 1, 1]"
      ]
     },
     "execution_count": 58,
     "metadata": {},
     "output_type": "execute_result"
    }
   ],
   "source": [
    "ex_list.extend(my_list)\n",
    "ex_list"
   ]
  },
  {
   "cell_type": "code",
   "execution_count": 57,
   "id": "def64cb4",
   "metadata": {},
   "outputs": [],
   "source": [
    "#set\n",
    "## collection, unordered, unindexed, no duplicats, mutable (changeable)\n",
    "# ex_set ={1,2,3,3,4,1}\n",
    "# ex_set = set((1,2,3,4))\n",
    "ex_list.pop(3)\n",
    "ex_set = set(ex_list)"
   ]
  },
  {
   "cell_type": "code",
   "execution_count": 56,
   "id": "2296683a",
   "metadata": {},
   "outputs": [
    {
     "data": {
      "text/plain": [
       "[1]"
      ]
     },
     "execution_count": 56,
     "metadata": {},
     "output_type": "execute_result"
    }
   ],
   "source": [
    "ex_list.pop(3)\n",
    "ex_list.pop(-2)"
   ]
  },
  {
   "cell_type": "code",
   "execution_count": 59,
   "id": "5c68db90",
   "metadata": {},
   "outputs": [
    {
     "data": {
      "text/plain": [
       "[1, 2, 4, 4, 5, 6]"
      ]
     },
     "execution_count": 59,
     "metadata": {},
     "output_type": "execute_result"
    }
   ],
   "source": [
    "l1 = [1,2,4]\n",
    "l2 = [4,5,6]\n",
    "l3 = [*l1,*l2]\n",
    "l3"
   ]
  },
  {
   "cell_type": "code",
   "execution_count": 60,
   "id": "99c3410d",
   "metadata": {},
   "outputs": [
    {
     "data": {
      "text/plain": [
       "(1, 2, 3, 4)"
      ]
     },
     "execution_count": 60,
     "metadata": {},
     "output_type": "execute_result"
    }
   ],
   "source": [
    "#tuple\n",
    "## collection, ordered, unmutable, indexed\n",
    "tuple1 = (1,2,3,4)\n",
    "tuple2 = tuple((2,3,4,5,56))\n",
    "tuple1"
   ]
  },
  {
   "cell_type": "code",
   "execution_count": 63,
   "id": "41a3c3f0",
   "metadata": {},
   "outputs": [
    {
     "data": {
      "text/plain": [
       "3"
      ]
     },
     "execution_count": 63,
     "metadata": {},
     "output_type": "execute_result"
    }
   ],
   "source": [
    "tuple1[2]"
   ]
  },
  {
   "cell_type": "code",
   "execution_count": 68,
   "id": "1e6fb5bb",
   "metadata": {},
   "outputs": [
    {
     "data": {
      "text/plain": [
       "{'Name': 'Mason', 'Age': '20'}"
      ]
     },
     "execution_count": 68,
     "metadata": {},
     "output_type": "execute_result"
    }
   ],
   "source": [
    "# dictionaries\n",
    "## key:value pairs, indexed by key, allow duplicates, mutable\n",
    "dict1 = {}\n",
    "dict1 = dict(Name=\"Mason\", Age=\"20\")\n",
    "dict1"
   ]
  },
  {
   "cell_type": "code",
   "execution_count": 70,
   "id": "7b0d6f37",
   "metadata": {},
   "outputs": [
    {
     "data": {
      "text/plain": [
       "('Mason', '20')"
      ]
     },
     "execution_count": 70,
     "metadata": {},
     "output_type": "execute_result"
    }
   ],
   "source": [
    "# access a dictionary\n",
    "# bracket notation\n",
    "# dot notation (bad)\n",
    "dict1[\"Name\"], dict1[\"Age\"]"
   ]
  },
  {
   "cell_type": "code",
   "execution_count": 71,
   "id": "372f6c41",
   "metadata": {},
   "outputs": [
    {
     "data": {
      "text/plain": [
       "{'Name': 'Mason', 'Age': '20', 1: 'A number'}"
      ]
     },
     "execution_count": 71,
     "metadata": {},
     "output_type": "execute_result"
    }
   ],
   "source": [
    "dict1[1] = \"A number\"\n",
    "dict1"
   ]
  },
  {
   "cell_type": "code",
   "execution_count": 72,
   "id": "b85f2b52",
   "metadata": {},
   "outputs": [
    {
     "data": {
      "text/plain": [
       "'A number'"
      ]
     },
     "execution_count": 72,
     "metadata": {},
     "output_type": "execute_result"
    }
   ],
   "source": [
    "dict1[1]"
   ]
  },
  {
   "cell_type": "code",
   "execution_count": 73,
   "id": "60f696a1",
   "metadata": {},
   "outputs": [
    {
     "data": {
      "text/plain": [
       "'Mason'"
      ]
     },
     "execution_count": 73,
     "metadata": {},
     "output_type": "execute_result"
    }
   ],
   "source": [
    "n = \"Name\"\n",
    "dict1[n]"
   ]
  },
  {
   "cell_type": "code",
   "execution_count": 75,
   "id": "662d717b",
   "metadata": {},
   "outputs": [
    {
     "data": {
      "text/plain": [
       "{'name': 'mason', 'age': '20', 'location': 'Charlotte', 'food': 'chicken parm'}"
      ]
     },
     "execution_count": 75,
     "metadata": {},
     "output_type": "execute_result"
    }
   ],
   "source": [
    "name = \"mason\"\n",
    "age = \"20\"\n",
    "location = \"Charlotte\"\n",
    "favorite_food = input(\"what is your favorite food?\")\n",
    "person = {\n",
    "    \"name\":name,\n",
    "    \"age\":age,\n",
    "    \"location\": location,\n",
    "    \"food\": favorite_food\n",
    "}\n",
    "person"
   ]
  },
  {
   "cell_type": "code",
   "execution_count": null,
   "id": "4b293e96",
   "metadata": {},
   "outputs": [],
   "source": []
  }
 ],
 "metadata": {
  "kernelspec": {
   "display_name": "MasonsPy-class",
   "language": "python",
   "name": "python3"
  },
  "language_info": {
   "codemirror_mode": {
    "name": "ipython",
    "version": 3
   },
   "file_extension": ".py",
   "mimetype": "text/x-python",
   "name": "python",
   "nbconvert_exporter": "python",
   "pygments_lexer": "ipython3",
   "version": "3.13.5"
  }
 },
 "nbformat": 4,
 "nbformat_minor": 5
}
